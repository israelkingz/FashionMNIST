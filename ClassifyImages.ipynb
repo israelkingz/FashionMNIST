{
  "nbformat": 4,
  "nbformat_minor": 0,
  "metadata": {
    "colab": {
      "name": "ClassifyImages.ipynb",
      "provenance": [],
      "collapsed_sections": [],
      "toc_visible": true,
      "authorship_tag": "ABX9TyOtIAQrvYWnyN3uZaXXKVhw",
      "include_colab_link": true
    },
    "kernelspec": {
      "name": "python3",
      "display_name": "Python 3"
    }
  },
  "cells": [
    {
      "cell_type": "markdown",
      "metadata": {
        "id": "view-in-github",
        "colab_type": "text"
      },
      "source": [
        "<a href=\"https://colab.research.google.com/github/israelkingz/FashionMNIST/blob/master/ClassifyImages.ipynb\" target=\"_parent\"><img src=\"https://colab.research.google.com/assets/colab-badge.svg\" alt=\"Open In Colab\"/></a>"
      ]
    },
    {
      "cell_type": "markdown",
      "metadata": {
        "id": "hkXzX8wqqLLy",
        "colab_type": "text"
      },
      "source": [
        "###My first Classification Model in Pytorch using Fashion-MNIST"
      ]
    },
    {
      "cell_type": "code",
      "metadata": {
        "id": "oehaF9nEsCY-",
        "colab_type": "code",
        "colab": {
          "base_uri": "https://localhost:8080/",
          "height": 224
        },
        "outputId": "62168eef-648f-41c3-d7c7-c6f6d6a6351d"
      },
      "source": [
        "!wget -c https://raw.githubusercontent.com/udacity/deep-learning-v2-pytorch/master/intro-to-pytorch/helper.py"
      ],
      "execution_count": 9,
      "outputs": [
        {
          "output_type": "stream",
          "text": [
            "--2020-01-29 09:45:23--  https://raw.githubusercontent.com/udacity/deep-learning-v2-pytorch/master/intro-to-pytorch/helper.py\n",
            "Resolving raw.githubusercontent.com (raw.githubusercontent.com)... 151.101.0.133, 151.101.64.133, 151.101.128.133, ...\n",
            "Connecting to raw.githubusercontent.com (raw.githubusercontent.com)|151.101.0.133|:443... connected.\n",
            "HTTP request sent, awaiting response... 200 OK\n",
            "Length: 2813 (2.7K) [text/plain]\n",
            "Saving to: ‘helper.py’\n",
            "\n",
            "\rhelper.py             0%[                    ]       0  --.-KB/s               \rhelper.py           100%[===================>]   2.75K  --.-KB/s    in 0s      \n",
            "\n",
            "2020-01-29 09:45:23 (83.2 MB/s) - ‘helper.py’ saved [2813/2813]\n",
            "\n"
          ],
          "name": "stdout"
        }
      ]
    },
    {
      "cell_type": "code",
      "metadata": {
        "id": "GGhd1_sNppu8",
        "colab_type": "code",
        "colab": {}
      },
      "source": [
        "#importing pytorch packages \n",
        "import torch\n",
        "from torchvision import datasets, transforms\n",
        "import helper"
      ],
      "execution_count": 0,
      "outputs": []
    },
    {
      "cell_type": "code",
      "metadata": {
        "id": "FFi7rvVcqI9w",
        "colab_type": "code",
        "colab": {}
      },
      "source": [
        "# Define a transform to normalize the data\n",
        "transform = transforms.Compose([transforms.ToTensor(),\n",
        "  transforms.Normalize((0.5,), (0.5,))\n",
        "])\n",
        "# Download and load the training data\n",
        "trainset = datasets.FashionMNIST('~/.pytorch/F_MNIST_data/', download=True, train=True, transform=transform)\n",
        "trainloader = torch.utils.data.DataLoader(trainset, batch_size=64, shuffle=True)\n",
        "\n",
        "# Download and load the test data\n",
        "testset = datasets.FashionMNIST('~/.pytorch/F_MNIST_data/', download=True, train=False, transform=transform)\n",
        "testloader = torch.utils.data.DataLoader(testset, batch_size=64, shuffle=True)"
      ],
      "execution_count": 0,
      "outputs": []
    },
    {
      "cell_type": "code",
      "metadata": {
        "id": "UTmM6yDSqrq2",
        "colab_type": "code",
        "colab": {
          "base_uri": "https://localhost:8080/",
          "height": 248
        },
        "outputId": "8e4b4a7e-aabe-4c0a-d5b0-60603f65beff"
      },
      "source": [
        "image, label = next(iter(trainloader))\n",
        "helper.imshow(image[0,:]);"
      ],
      "execution_count": 37,
      "outputs": [
        {
          "output_type": "display_data",
          "data": {
            "image/png": "[encoded data removed]",
            "text/plain": [
              "<Figure size 432x288 with 1 Axes>"
            ]
          },
          "metadata": {
            "tags": [],
            "image/png": {
              "width": 231,
              "height": 231
            }
          }
        }
      ]
    },
    {
      "cell_type": "code",
      "metadata": {
        "id": "mpq75HRcsYVw",
        "colab_type": "code",
        "colab": {}
      },
      "source": [
        ""
      ],
      "execution_count": 0,
      "outputs": []
    },
    {
      "cell_type": "markdown",
      "metadata": {
        "id": "2S33qe5KsfdY",
        "colab_type": "text"
      },
      "source": [
        "#Building the network\n",
        "Here I define my network. As with MNIST, each image is 28x28 which is a total of 784 pixels, and there are 10 classes.I used ReLU activations for the layers and to return the logits or log-softmax from the forward pass."
      ]
    },
    {
      "cell_type": "code",
      "metadata": {
        "id": "ZXDbNMSGsz3s",
        "colab_type": "code",
        "colab": {}
      },
      "source": [
        "from torch import nn, optim\n",
        "import torch.nn.functional as F\n"
      ],
      "execution_count": 0,
      "outputs": []
    },
    {
      "cell_type": "code",
      "metadata": {
        "id": "rmpjv2_ytdvG",
        "colab_type": "code",
        "colab": {}
      },
      "source": [
        "class Classifier(nn.Module):\n",
        "    def __init__(self):\n",
        "        super().__init__()\n",
        "        self.fc1 = nn.Linear(784, 256)\n",
        "        self.fc2 = nn.Linear(256, 128)\n",
        "        self.fc3 = nn.Linear(128, 64)\n",
        "        self.fc4 = nn.Linear(64, 10)\n",
        "\n",
        "        # Dropout module with 0.2 drop probability\n",
        "        self.dropout = nn.Dropout(p=0.2)\n",
        "\n",
        "    def forward(self, x):\n",
        "        # make sure input tensor is flattened\n",
        "        x = x.view(x.shape[0], -1)\n",
        "\n",
        "        # Now with dropout\n",
        "        x = self.dropout(F.relu(self.fc1(x)))\n",
        "        x = self.dropout(F.relu(self.fc2(x)))\n",
        "        x = self.dropout(F.relu(self.fc3(x)))\n",
        "\n",
        "        # output so no dropout here\n",
        "        x = F.log_softmax(self.fc4(x), dim=1)\n",
        "\n",
        "        return x"
      ],
      "execution_count": 0,
      "outputs": []
    },
    {
      "cell_type": "code",
      "metadata": {
        "id": "KtFoCqcr2GxI",
        "colab_type": "code",
        "colab": {
          "base_uri": "https://localhost:8080/",
          "height": 527
        },
        "outputId": "a5c3efd9-9309-4119-bf16-9686ba2cad9c"
      },
      "source": [
        "model = Classifier()\n",
        "criterion = nn.NLLLoss()\n",
        "optimizer = optim.Adam(model.parameters(), lr=0.003)\n",
        "\n",
        "epochs = 30\n",
        "steps = 0\n",
        "\n",
        "train_losses, test_losses = [], []\n",
        "for e in range(epochs):\n",
        "    running_loss = 0\n",
        "    for images, labels in trainloader:\n",
        "        \n",
        "        optimizer.zero_grad()\n",
        "        \n",
        "        log_ps = model(images)\n",
        "        loss = criterion(log_ps, labels)\n",
        "        loss.backward()\n",
        "        optimizer.step()\n",
        "        \n",
        "        running_loss += loss.item()\n",
        "        \n",
        "    else:\n",
        "        test_loss = 0\n",
        "        accuracy = 0\n",
        "        \n",
        "        # Turn off gradients for validation, saves memory and computations\n",
        "        with torch.no_grad():\n",
        "            model.eval()\n",
        "            for images, labels in testloader:\n",
        "                log_ps = model(images)\n",
        "                test_loss += criterion(log_ps, labels)\n",
        "                \n",
        "                ps = torch.exp(log_ps)\n",
        "                top_p, top_class = ps.topk(1, dim=1)\n",
        "                equals = top_class == labels.view(*top_class.shape)\n",
        "                accuracy += torch.mean(equals.type(torch.FloatTensor))\n",
        "        \n",
        "        model.train()\n",
        "        \n",
        "        train_losses.append(running_loss/len(trainloader))\n",
        "        test_losses.append(test_loss/len(testloader))\n",
        "\n",
        "        print(\"Epoch: {}/{}.. \".format(e+1, epochs),\n",
        "              \"Training Loss: {:.3f}.. \".format(train_losses[-1]),\n",
        "              \"Test Loss: {:.3f}.. \".format(test_losses[-1]),\n",
        "              \"Test Accuracy: {:.3f}\".format(accuracy/len(testloader)))"
      ],
      "execution_count": 43,
      "outputs": [
        {
          "output_type": "stream",
          "text": [
            "Epoch: 1/30..  Training Loss: 0.609..  Test Loss: 0.521..  Test Accuracy: 0.803\n",
            "Epoch: 2/30..  Training Loss: 0.480..  Test Loss: 0.449..  Test Accuracy: 0.840\n",
            "Epoch: 3/30..  Training Loss: 0.449..  Test Loss: 0.440..  Test Accuracy: 0.842\n",
            "Epoch: 4/30..  Training Loss: 0.427..  Test Loss: 0.405..  Test Accuracy: 0.861\n",
            "Epoch: 5/30..  Training Loss: 0.417..  Test Loss: 0.410..  Test Accuracy: 0.847\n",
            "Epoch: 6/30..  Training Loss: 0.413..  Test Loss: 0.399..  Test Accuracy: 0.858\n",
            "Epoch: 7/30..  Training Loss: 0.405..  Test Loss: 0.418..  Test Accuracy: 0.852\n",
            "Epoch: 8/30..  Training Loss: 0.398..  Test Loss: 0.400..  Test Accuracy: 0.861\n",
            "Epoch: 9/30..  Training Loss: 0.396..  Test Loss: 0.407..  Test Accuracy: 0.864\n",
            "Epoch: 10/30..  Training Loss: 0.388..  Test Loss: 0.378..  Test Accuracy: 0.864\n",
            "Epoch: 11/30..  Training Loss: 0.381..  Test Loss: 0.379..  Test Accuracy: 0.862\n",
            "Epoch: 12/30..  Training Loss: 0.381..  Test Loss: 0.395..  Test Accuracy: 0.867\n",
            "Epoch: 13/30..  Training Loss: 0.387..  Test Loss: 0.394..  Test Accuracy: 0.864\n",
            "Epoch: 14/30..  Training Loss: 0.373..  Test Loss: 0.379..  Test Accuracy: 0.869\n",
            "Epoch: 15/30..  Training Loss: 0.370..  Test Loss: 0.388..  Test Accuracy: 0.868\n",
            "Epoch: 16/30..  Training Loss: 0.366..  Test Loss: 0.362..  Test Accuracy: 0.876\n",
            "Epoch: 17/30..  Training Loss: 0.358..  Test Loss: 0.399..  Test Accuracy: 0.862\n",
            "Epoch: 18/30..  Training Loss: 0.367..  Test Loss: 0.389..  Test Accuracy: 0.872\n",
            "Epoch: 19/30..  Training Loss: 0.361..  Test Loss: 0.381..  Test Accuracy: 0.874\n",
            "Epoch: 20/30..  Training Loss: 0.359..  Test Loss: 0.390..  Test Accuracy: 0.869\n",
            "Epoch: 21/30..  Training Loss: 0.357..  Test Loss: 0.370..  Test Accuracy: 0.870\n",
            "Epoch: 22/30..  Training Loss: 0.350..  Test Loss: 0.373..  Test Accuracy: 0.870\n",
            "Epoch: 23/30..  Training Loss: 0.351..  Test Loss: 0.397..  Test Accuracy: 0.869\n",
            "Epoch: 24/30..  Training Loss: 0.344..  Test Loss: 0.370..  Test Accuracy: 0.871\n",
            "Epoch: 25/30..  Training Loss: 0.344..  Test Loss: 0.366..  Test Accuracy: 0.873\n",
            "Epoch: 26/30..  Training Loss: 0.348..  Test Loss: 0.390..  Test Accuracy: 0.867\n",
            "Epoch: 27/30..  Training Loss: 0.347..  Test Loss: 0.369..  Test Accuracy: 0.878\n",
            "Epoch: 28/30..  Training Loss: 0.342..  Test Loss: 0.392..  Test Accuracy: 0.870\n",
            "Epoch: 29/30..  Training Loss: 0.338..  Test Loss: 0.388..  Test Accuracy: 0.877\n",
            "Epoch: 30/30..  Training Loss: 0.338..  Test Loss: 0.395..  Test Accuracy: 0.865\n"
          ],
          "name": "stdout"
        }
      ]
    },
    {
      "cell_type": "code",
      "metadata": {
        "id": "xs8NEJLW4LR_",
        "colab_type": "code",
        "colab": {}
      },
      "source": [
        "%matplotlib inline\n",
        "%config InlineBackend.figure_format = 'retina'\n",
        "\n",
        "import matplotlib.pyplot as plt"
      ],
      "execution_count": 0,
      "outputs": []
    },
    {
      "cell_type": "code",
      "metadata": {
        "id": "_JefqVa7ujib",
        "colab_type": "code",
        "colab": {
          "base_uri": "https://localhost:8080/",
          "height": 282
        },
        "outputId": "9e10b04c-2a59-4e8c-b774-32dd59ad8257"
      },
      "source": [
        "plt.plot(train_losses, label='Training loss')\n",
        "plt.plot(test_losses, label='Validation loss')\n",
        "plt.legend(frameon=False)"
      ],
      "execution_count": 45,
      "outputs": [
        {
          "output_type": "execute_result",
          "data": {
            "text/plain": [
              "<matplotlib.legend.Legend at 0x7f64922df3c8>"
            ]
          },
          "metadata": {
            "tags": []
          },
          "execution_count": 45
        },
        {
          "output_type": "display_data",
          "data": {
            "image/png": "[encoded data removed]",
            "text/plain": [
              "<Figure size 432x288 with 1 Axes>"
            ]
          },
          "metadata": {
            "tags": [],
            "image/png": {
              "width": 380,
              "height": 248
            }
          }
        }
      ]
    },
    {
      "cell_type": "code",
      "metadata": {
        "id": "TUgnOYlI4fPn",
        "colab_type": "code",
        "colab": {
          "base_uri": "https://localhost:8080/",
          "height": 233
        },
        "outputId": "bd5b1c64-ec86-4dd5-93c0-4a2a33a0fe56"
      },
      "source": [
        "# Import helper module (should be in the repo)\n",
        "import helper\n",
        "\n",
        "# Test out your network!\n",
        "\n",
        "model.eval()\n",
        "\n",
        "dataiter = iter(testloader)\n",
        "images, labels = dataiter.next()\n",
        "img = images[0]\n",
        "# Convert 2D image to 1D vector\n",
        "img = img.view(1, 784)\n",
        "\n",
        "# Calculate the class probabilities (softmax) for img\n",
        "with torch.no_grad():\n",
        "    output = model.forward(img)\n",
        "\n",
        "ps = torch.exp(output)\n",
        "\n",
        "# Plot the image and probabilities\n",
        "helper.view_classify(img.view(1, 28, 28), ps, version='Fashion')"
      ],
      "execution_count": 49,
      "outputs": [
        {
          "output_type": "display_data",
          "data": {
            "image/png": "[encoded data removed]",
            "text/plain": [
              "<Figure size 432x648 with 2 Axes>"
            ]
          },
          "metadata": {
            "tags": [],
            "image/png": {
              "width": 424,
              "height": 216
            }
          }
        }
      ]
    },
    {
      "cell_type": "code",
      "metadata": {
        "id": "wr3i7eXX-TRE",
        "colab_type": "code",
        "colab": {
          "base_uri": "https://localhost:8080/",
          "height": 238
        },
        "outputId": "1c675497-f996-41db-d035-442363ee6d1a"
      },
      "source": [
        "print(\"Our Model is \\n\\n\", model, '\\n')\n",
        "print(\"Our state dict key \\n\\n\", model.state_dict().keys())"
      ],
      "execution_count": 52,
      "outputs": [
        {
          "output_type": "stream",
          "text": [
            "Our Model is \n",
            "\n",
            " Classifier(\n",
            "  (fc1): Linear(in_features=784, out_features=256, bias=True)\n",
            "  (fc2): Linear(in_features=256, out_features=128, bias=True)\n",
            "  (fc3): Linear(in_features=128, out_features=64, bias=True)\n",
            "  (fc4): Linear(in_features=64, out_features=10, bias=True)\n",
            "  (dropout): Dropout(p=0.2, inplace=False)\n",
            ") \n",
            "\n",
            "Our state dict key \n",
            "\n",
            " odict_keys(['fc1.weight', 'fc1.bias', 'fc2.weight', 'fc2.bias', 'fc3.weight', 'fc3.bias', 'fc4.weight', 'fc4.bias'])\n"
          ],
          "name": "stdout"
        }
      ]
    },
    {
      "cell_type": "code",
      "metadata": {
        "id": "_Dxsu97MAJAN",
        "colab_type": "code",
        "colab": {}
      },
      "source": [
        "#to save model\n",
        "torch.save(model.state_dict(),'save.pth')"
      ],
      "execution_count": 0,
      "outputs": []
    },
    {
      "cell_type": "code",
      "metadata": {
        "id": "wtFNjc_OAWQy",
        "colab_type": "code",
        "colab": {}
      },
      "source": [
        "state= torch.load(\"save.pth\")"
      ],
      "execution_count": 0,
      "outputs": []
    },
    {
      "cell_type": "code",
      "metadata": {
        "id": "RBTv-EmmAd5y",
        "colab_type": "code",
        "colab": {
          "base_uri": "https://localhost:8080/",
          "height": 34
        },
        "outputId": "f7760cb4-34e2-4ca2-bd62-da048554c6e6"
      },
      "source": [
        "print(state.keys())"
      ],
      "execution_count": 57,
      "outputs": [
        {
          "output_type": "stream",
          "text": [
            "odict_keys(['fc1.weight', 'fc1.bias', 'fc2.weight', 'fc2.bias', 'fc3.weight', 'fc3.bias', 'fc4.weight', 'fc4.bias'])\n"
          ],
          "name": "stdout"
        }
      ]
    },
    {
      "cell_type": "code",
      "metadata": {
        "id": "AF3Pu9PdBAI3",
        "colab_type": "code",
        "colab": {}
      },
      "source": [
        ""
      ],
      "execution_count": 0,
      "outputs": []
    }
  ]
}